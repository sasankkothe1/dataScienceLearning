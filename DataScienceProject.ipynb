{
 "cells": [
  {
   "cell_type": "markdown",
   "metadata": {},
   "source": [
    "# Data Science project basics\n",
    "\n",
    "> This is my first data science project ever developed. With this, an attempt was made to learn about the data science.\n",
    "> This project contains various data science methods like data extraction, data cleaning, graphs and many more."
   ]
  },
  {
   "cell_type": "markdown",
   "metadata": {},
   "source": [
    "## Data exploration;\n",
    "\n",
    "Below code is used to explore the data from the data sets.\n",
    "* There are two datasets. \n",
    "    * Google play store dataset.\n",
    "    * Apple store dataset."
   ]
  },
  {
   "cell_type": "code",
   "execution_count": 1,
   "metadata": {},
   "outputs": [],
   "source": [
    "from csv import reader\n",
    "\n",
    "### opening playstore data set\n",
    "playStore_file = open('googleplaystore.csv')\n",
    "read_playStore_file = reader(playStore_file)\n",
    "playStore = list(read_playStore_file)\n",
    "\n",
    "playStore_header = playStore[0]\n",
    "playStore = playStore[1:]\n",
    "\n",
    "### opening applestore data set\n",
    "appleStore_file = open('applestore.csv')\n",
    "read_appleStore_file = reader(appleStore_file)\n",
    "appleStore = list(read_appleStore_file)\n",
    "\n",
    "appleStore_header = appleStore[0]\n",
    "appleStore = appleStore[1:]\n"
   ]
  },
  {
   "cell_type": "markdown",
   "metadata": {},
   "source": [
    "### Exploring the data\n",
    "Here we write a function, __explore_data__ which takes following arguments:\n",
    "* __dataset__ : This contains the dataset as input that is extracted from the above step.\n",
    "* __start__ : Start point of the slice.\n",
    "* __end__ : End point of the slice.\n",
    "* __rows_and_colums = False__: This is by default false. If set true then number of rows and columns of the dataset are displayed."
   ]
  },
  {
   "cell_type": "code",
   "execution_count": 2,
   "metadata": {},
   "outputs": [],
   "source": [
    "def explore_data(dataset, start, end, rows_and_columns = False):\n",
    "    dataset_slice = dataset[start:end]\n",
    "    for row in dataset_slice:\n",
    "        print(row)\n",
    "        print('\\n')\n",
    "    if rows_and_columns:\n",
    "        print(\"Number of rows in the dataset: \", len(dataset))\n",
    "        print(\"Number of columns in the dataset: \", len(dataset[0]))"
   ]
  },
  {
   "cell_type": "code",
   "execution_count": 3,
   "metadata": {},
   "outputs": [
    {
     "name": "stdout",
     "output_type": "stream",
     "text": [
      "['Coloring book moana', 'ART_AND_DESIGN', '3.9', '967', '14M', '500,000+', 'Free', '0', 'Everyone', 'Art & Design;Pretend Play', 'January 15, 2018', '2.0.0', '4.0.3 and up']\n",
      "\n",
      "\n",
      "['U Launcher Lite – FREE Live Cool Themes, Hide Apps', 'ART_AND_DESIGN', '4.7', '87510', '8.7M', '5,000,000+', 'Free', '0', 'Everyone', 'Art & Design', 'August 1, 2018', '1.2.4', '4.0.3 and up']\n",
      "\n",
      "\n",
      "['Sketch - Draw & Paint', 'ART_AND_DESIGN', '4.5', '215644', '25M', '50,000,000+', 'Free', '0', 'Teen', 'Art & Design', 'June 8, 2018', 'Varies with device', '4.2 and up']\n",
      "\n",
      "\n",
      "['Pixel Draw - Number Art Coloring Book', 'ART_AND_DESIGN', '4.3', '967', '2.8M', '100,000+', 'Free', '0', 'Everyone', 'Art & Design;Creativity', 'June 20, 2018', '1.1', '4.4 and up']\n",
      "\n",
      "\n"
     ]
    }
   ],
   "source": [
    "explore_data(playStore, 1, 5, rows_and_columns = False)"
   ]
  },
  {
   "cell_type": "code",
   "execution_count": 4,
   "metadata": {},
   "outputs": [
    {
     "name": "stdout",
     "output_type": "stream",
     "text": [
      "['389801252', 'Instagram', '113954816', 'USD', '0.0', '2161558', '1289', '4.5', '4.0', '10.23', '12+', 'Photo & Video', '37', '0', '29', '1']\n",
      "\n",
      "\n",
      "['529479190', 'Clash of Clans', '116476928', 'USD', '0.0', '2130805', '579', '4.5', '4.5', '9.24.12', '9+', 'Games', '38', '5', '18', '1']\n",
      "\n",
      "\n",
      "Number of rows in the dataset:  7197\n",
      "Number of columns in the dataset:  16\n"
     ]
    }
   ],
   "source": [
    "explore_data(appleStore, 1, 3, rows_and_columns = True)"
   ]
  },
  {
   "cell_type": "markdown",
   "metadata": {},
   "source": [
    "### Data Cleaning\n",
    "Now we shall clean the data. __Data Cleaning__ is the step where data is cleaned inorder to get the accurate results. In this cleaning data phase, following steps are done:\n",
    "* Inaccurate data is detected. We either correct it or remove it.\n",
    "* Duplicate data is detected. These are removed.\n",
    "\n",
    "In the below step, we delete the row with missing data. In our case, record 10472 has a wrong entry. So we delete that row. __(Make sure the we execute the del statement only once.)__ This deletion step is in __ln[6]__"
   ]
  },
  {
   "cell_type": "code",
   "execution_count": 5,
   "metadata": {},
   "outputs": [
    {
     "name": "stdout",
     "output_type": "stream",
     "text": [
      "['App', 'Category', 'Rating', 'Reviews', 'Size', 'Installs', 'Type', 'Price', 'Content Rating', 'Genres', 'Last Updated', 'Current Ver', 'Android Ver']\n",
      "\n",
      "\n",
      "['Coloring book moana', 'ART_AND_DESIGN', '3.9', '967', '14M', '500,000+', 'Free', '0', 'Everyone', 'Art & Design;Pretend Play', 'January 15, 2018', '2.0.0', '4.0.3 and up']\n",
      "\n",
      "\n",
      "['Life Made WI-Fi Touchscreen Photo Frame', '1.9', '19', '3.0M', '1,000+', 'Free', '0', 'Everyone', '', 'February 11, 2018', '1.0.19', '4.0 and up']\n"
     ]
    }
   ],
   "source": [
    "print(playStore_header)\n",
    "print('\\n')\n",
    "print(playStore[1])\n",
    "print('\\n')\n",
    "print(playStore[10472])"
   ]
  },
  {
   "cell_type": "code",
   "execution_count": 6,
   "metadata": {},
   "outputs": [
    {
     "name": "stdout",
     "output_type": "stream",
     "text": [
      "['Life Made WI-Fi Touchscreen Photo Frame', '1.9', '19', '3.0M', '1,000+', 'Free', '0', 'Everyone', '', 'February 11, 2018', '1.0.19', '4.0 and up']\n"
     ]
    }
   ],
   "source": [
    "#del(playStore[10472])\n",
    "print(playStore[10472])"
   ]
  },
  {
   "cell_type": "markdown",
   "metadata": {},
   "source": [
    "In the above piece of code, we removed the wrong data entry. Now let us try removing the duplicate values.\n",
    "Here in this example, we are trying to remove the duplicate value __name = Instagram__ from the googleplaystore dataset."
   ]
  },
  {
   "cell_type": "code",
   "execution_count": 7,
   "metadata": {},
   "outputs": [
    {
     "name": "stdout",
     "output_type": "stream",
     "text": [
      "['Instagram', 'SOCIAL', '4.5', '66577313', 'Varies with device', '1,000,000,000+', 'Free', '0', 'Teen', 'Social', 'July 31, 2018', 'Varies with device', 'Varies with device']\n",
      "['Instagram', 'SOCIAL', '4.5', '66577446', 'Varies with device', '1,000,000,000+', 'Free', '0', 'Teen', 'Social', 'July 31, 2018', 'Varies with device', 'Varies with device']\n",
      "['Instagram', 'SOCIAL', '4.5', '66577313', 'Varies with device', '1,000,000,000+', 'Free', '0', 'Teen', 'Social', 'July 31, 2018', 'Varies with device', 'Varies with device']\n",
      "['Instagram', 'SOCIAL', '4.5', '66509917', 'Varies with device', '1,000,000,000+', 'Free', '0', 'Teen', 'Social', 'July 31, 2018', 'Varies with device', 'Varies with device']\n"
     ]
    }
   ],
   "source": [
    "for app in playStore:\n",
    "    name = app[0]\n",
    "    if name == \"Instagram\":\n",
    "        print(app)"
   ]
  },
  {
   "cell_type": "markdown",
   "metadata": {},
   "source": [
    "### Finding duplicate entries in the data\n",
    "So if observed, there are 4 duplicate __Instagram__ apps. And also it is said in the problem statement [here](https://github.com/dataquestio/solutions/blob/master/Mission350Solutions.ipynb) (see below line 6), there are in total 1181 duplicate apps in the __playStore dataset.__ \n",
    "in the below step, let us separate duplicate apps from the unique apps."
   ]
  },
  {
   "cell_type": "code",
   "execution_count": 8,
   "metadata": {},
   "outputs": [
    {
     "name": "stdout",
     "output_type": "stream",
     "text": [
      "Total number of duplicate apps:  1181\n",
      "Total number of unique apps:  9660\n"
     ]
    }
   ],
   "source": [
    "unique_apps = []\n",
    "duplicate_apps = []\n",
    "\n",
    "for app in playStore:\n",
    "    name = app[0]\n",
    "    if name in unique_apps:\n",
    "        duplicate_apps.append(app[0])\n",
    "    else:\n",
    "        unique_apps.append(app[0])\n",
    "        \n",
    "print(\"Total number of duplicate apps: \", len(duplicate_apps))\n",
    "print(\"Total number of unique apps: \",len(unique_apps))"
   ]
  },
  {
   "cell_type": "markdown",
   "metadata": {},
   "source": [
    "As mentioned, there are 1181 duplicate apps in the playstore. Hence the next step would be the removal of duplicate entries.\n",
    "\n",
    "### Removing duplicate entries\n",
    "In order to get the accurate analysis of the data, we shall have to remove all the duplicate entries from the dataset.\n",
    "But rather than removing the duplicate entries randomly, there is a better way to remove them.\n",
    "\n",
    "If we observe the results of the duplicate app __Instagram__, the main difference occurs in the 4th position of the entry, that corresponds to the rating os the application. This states that the ratings of the app were collected at different times. Hence the better way of removing this entry is to keep that entry whose rating is highest and discard the remaining values. This way, we get more accurate results. Let's do this as the below steps:\n",
    "* Create a dictionary where each key is a unique app name, and the value is the highest number of reviews of that app\n",
    "* Use the dictionary to create a new data set, which will have only one entry per app (and we only select the apps with the highest number of reviews)\n",
    "\n",
    "Let's start creating the dictionary"
   ]
  },
  {
   "cell_type": "code",
   "execution_count": 9,
   "metadata": {},
   "outputs": [],
   "source": [
    "reviews_max = {}\n",
    "\n",
    "\n",
    "for app in playStore:\n",
    "    name = app[0]\n",
    "    n_reviews = app[3]\n",
    "    \n",
    "    if name in reviews_max and reviews_max[name] < n_reviews:\n",
    "        reviews_max[name] = n_reviews\n",
    "        \n",
    "    elif name not in reviews_max:\n",
    "        reviews_max[name] = n_reviews"
   ]
  },
  {
   "cell_type": "markdown",
   "metadata": {},
   "source": [
    "Hence in the above code, we did create a dictionary that holds the data excluding the duplicate entries from the dataset. \n",
    "So it is clear that the number of duplicate entries in the data set is 1181. So the difference obtained after removing the duplicate apps from all the apps present in the playStore data set should be equal to the length of the dictionary. Let's find out:"
   ]
  },
  {
   "cell_type": "code",
   "execution_count": 10,
   "metadata": {},
   "outputs": [
    {
     "name": "stdout",
     "output_type": "stream",
     "text": [
      "Expected length:  9660\n",
      "Actual length:  9660\n"
     ]
    }
   ],
   "source": [
    "print(\"Expected length: \", len(playStore) - 1181)\n",
    "print(\"Actual length: \", len(reviews_max))"
   ]
  },
  {
   "cell_type": "markdown",
   "metadata": {},
   "source": [
    "Now, let us use the dictionary to remove the duplicate values from the dataset __playStore__. We will obtained a __clean dataset__ after performing this activity."
   ]
  },
  {
   "cell_type": "code",
   "execution_count": 11,
   "metadata": {},
   "outputs": [],
   "source": [
    "clean_playStore = []\n",
    "already_added = []\n",
    "\n",
    "for app in playStore:\n",
    "    name = app[0]\n",
    "    reviews = app[3]\n",
    "    \n",
    "    if (reviews_max[name] == reviews) and (name not in already_added):\n",
    "        clean_playStore.append(app)\n",
    "        already_added.append(name)"
   ]
  },
  {
   "cell_type": "code",
   "execution_count": 12,
   "metadata": {},
   "outputs": [
    {
     "name": "stdout",
     "output_type": "stream",
     "text": [
      "['Photo Editor & Candy Camera & Grid & ScrapBook', 'ART_AND_DESIGN', '4.1', '159', '19M', '10,000+', 'Free', '0', 'Everyone', 'Art & Design', 'January 7, 2018', '1.0.0', '4.0.3 and up']\n",
      "\n",
      "\n",
      "['U Launcher Lite – FREE Live Cool Themes, Hide Apps', 'ART_AND_DESIGN', '4.7', '87510', '8.7M', '5,000,000+', 'Free', '0', 'Everyone', 'Art & Design', 'August 1, 2018', '1.2.4', '4.0.3 and up']\n",
      "\n",
      "\n",
      "['Sketch - Draw & Paint', 'ART_AND_DESIGN', '4.5', '215644', '25M', '50,000,000+', 'Free', '0', 'Teen', 'Art & Design', 'June 8, 2018', 'Varies with device', '4.2 and up']\n",
      "\n",
      "\n",
      "['Pixel Draw - Number Art Coloring Book', 'ART_AND_DESIGN', '4.3', '967', '2.8M', '100,000+', 'Free', '0', 'Everyone', 'Art & Design;Creativity', 'June 20, 2018', '1.1', '4.4 and up']\n",
      "\n",
      "\n",
      "Number of rows in the dataset:  9660\n",
      "Number of columns in the dataset:  13\n"
     ]
    }
   ],
   "source": [
    "explore_data(clean_playStore, 0, 4, True)"
   ]
  },
  {
   "cell_type": "markdown",
   "metadata": {},
   "source": [
    "In the above steps, we have successfully removed the duplicate apps from the dataset using dictionary and created a clean data set called __clean_playStore__.\n",
    "\n",
    "The main motto of the project is to analyse the __English app sales in both playStore and appleStore.__ So now it is time to remove non english apps from the clean data set.\n",
    "\n",
    "### Removing non-english apps from the dataset.\n",
    "There are many non-english apps in the clean dataset we obtained from the above step. This can be done using python's inbuilt function called __ord()__. This function returns the unicode of a symbol in python. All the unicodes above 127 are special characters that state non-english letters. Further more information can be found [here](https://en.wikipedia.org/wiki/List_of_Unicode_characters)\n",
    "\n",
    "It is given that entries 4415 and 7940 in clean_playStore datasets are non-English apps as below:"
   ]
  },
  {
   "cell_type": "code",
   "execution_count": 13,
   "metadata": {},
   "outputs": [
    {
     "name": "stdout",
     "output_type": "stream",
     "text": [
      "中国語 AQリスニング\n",
      "لعبة تقدر تربح DZ\n"
     ]
    }
   ],
   "source": [
    "print(clean_playStore[4415][0])\n",
    "print(clean_playStore[7941][0])"
   ]
  },
  {
   "cell_type": "markdown",
   "metadata": {},
   "source": [
    "#### Part 1 (Removing non-english apps using ord())\n",
    "We are not interested in the apps like above. So let us create a function to identify non-english strings as below:"
   ]
  },
  {
   "cell_type": "code",
   "execution_count": 14,
   "metadata": {},
   "outputs": [],
   "source": [
    "def is_english(string):\n",
    "    \n",
    "    for character in string:\n",
    "        if(ord(character) > 127):\n",
    "            return False\n",
    "        \n",
    "    return True"
   ]
  },
  {
   "cell_type": "markdown",
   "metadata": {},
   "source": [
    "Let us test the above function with non-english apps"
   ]
  },
  {
   "cell_type": "code",
   "execution_count": 15,
   "metadata": {},
   "outputs": [
    {
     "name": "stdout",
     "output_type": "stream",
     "text": [
      "True\n",
      "False\n"
     ]
    }
   ],
   "source": [
    "print(is_english(\"Instagram\"))\n",
    "print(is_english(\"中国語 AQリスニング\"))"
   ]
  },
  {
   "cell_type": "markdown",
   "metadata": {},
   "source": [
    "Now that we see, the above function works fine. But in many cases english apps do have a special character. Whose ascii values and unicodes might defer with the above snippet's unicodes. Look below for such exceptional cases."
   ]
  },
  {
   "cell_type": "code",
   "execution_count": 16,
   "metadata": {},
   "outputs": [
    {
     "name": "stdout",
     "output_type": "stream",
     "text": [
      "False\n",
      "False\n",
      "8482\n",
      "128540\n"
     ]
    }
   ],
   "source": [
    "print(is_english('Docs To Go™ Free Office Suite'))\n",
    "print(is_english('Instachat 😜'))\n",
    "\n",
    "print(ord('™'))\n",
    "print(ord('😜'))"
   ]
  },
  {
   "cell_type": "markdown",
   "metadata": {},
   "source": [
    "So if this is the case, we will loose the data of some important applications from the dataset. So, we shall now takecare of such special cases.\n",
    "#### Part 1 (Minimizing data loss)\n",
    "In this step, we shall return false if there are more than 3 invalid ASCII characters."
   ]
  },
  {
   "cell_type": "code",
   "execution_count": 17,
   "metadata": {},
   "outputs": [],
   "source": [
    "def is_english_2(string):\n",
    "    non_ascii = 0\n",
    "    for character in string:\n",
    "        if(ord(character) > 127):\n",
    "            non_ascii += 1\n",
    "        \n",
    "    if non_ascii > 3:\n",
    "        return False\n",
    "    else:\n",
    "        return True"
   ]
  },
  {
   "cell_type": "code",
   "execution_count": 18,
   "metadata": {},
   "outputs": [
    {
     "name": "stdout",
     "output_type": "stream",
     "text": [
      "True\n",
      "True\n"
     ]
    }
   ],
   "source": [
    "print(is_english_2('Docs To Go™ Free Office Suite'))\n",
    "print(is_english_2('Instachat 😜'))"
   ]
  },
  {
   "cell_type": "markdown",
   "metadata": {},
   "source": [
    "The function is still not perfect, and very few non-English apps might get past our filter, but this seems good enough at this point in our analysis — let's not spend too much time on this optimization now.\n",
    "\n",
    "Below, we use the __is_english_2( )__ function to filter out the non-English apps for both data sets:"
   ]
  },
  {
   "cell_type": "code",
   "execution_count": 19,
   "metadata": {},
   "outputs": [
    {
     "name": "stdout",
     "output_type": "stream",
     "text": [
      "['Photo Editor & Candy Camera & Grid & ScrapBook', 'ART_AND_DESIGN', '4.1', '159', '19M', '10,000+', 'Free', '0', 'Everyone', 'Art & Design', 'January 7, 2018', '1.0.0', '4.0.3 and up']\n",
      "\n",
      "\n",
      "['U Launcher Lite – FREE Live Cool Themes, Hide Apps', 'ART_AND_DESIGN', '4.7', '87510', '8.7M', '5,000,000+', 'Free', '0', 'Everyone', 'Art & Design', 'August 1, 2018', '1.2.4', '4.0.3 and up']\n",
      "\n",
      "\n",
      "['Sketch - Draw & Paint', 'ART_AND_DESIGN', '4.5', '215644', '25M', '50,000,000+', 'Free', '0', 'Teen', 'Art & Design', 'June 8, 2018', 'Varies with device', '4.2 and up']\n",
      "\n",
      "\n",
      "Number of rows in the dataset:  9615\n",
      "Number of columns in the dataset:  13\n",
      "['284882215', 'Facebook', '389879808', 'USD', '0.0', '2974676', '212', '3.5', '3.5', '95.0', '4+', 'Social Networking', '37', '1', '29', '1']\n",
      "\n",
      "\n",
      "['389801252', 'Instagram', '113954816', 'USD', '0.0', '2161558', '1289', '4.5', '4.0', '10.23', '12+', 'Photo & Video', '37', '0', '29', '1']\n",
      "\n",
      "\n",
      "['529479190', 'Clash of Clans', '116476928', 'USD', '0.0', '2130805', '579', '4.5', '4.5', '9.24.12', '9+', 'Games', '38', '5', '18', '1']\n",
      "\n",
      "\n",
      "Number of rows in the dataset:  6183\n",
      "Number of columns in the dataset:  16\n"
     ]
    }
   ],
   "source": [
    "playStore_english = []\n",
    "appleStore_english = []\n",
    "\n",
    "for app in clean_playStore:\n",
    "    if is_english_2(app[0]):\n",
    "        playStore_english.append(app)\n",
    "        \n",
    "for app in appleStore:\n",
    "    if is_english_2(app[1]):\n",
    "        appleStore_english.append(app)\n",
    "\n",
    "explore_data(playStore_english, 0, 3, True)\n",
    "explore_data(appleStore_english, 0, 3, True)"
   ]
  },
  {
   "cell_type": "markdown",
   "metadata": {},
   "source": [
    "Hence, now in total we are left with 9615 english playStore apps, and 6183 english appleStore apps.\n",
    "\n",
    "### Isolate free apps\n",
    "we only build apps that are free to download and install, and our main source of revenue consists of in-app ads. Our data sets contain both free and non-free apps, and we'll need to isolate only the free apps for our analysis. Below, we isolate the free apps for both our data sets."
   ]
  },
  {
   "cell_type": "code",
   "execution_count": 20,
   "metadata": {},
   "outputs": [
    {
     "name": "stdout",
     "output_type": "stream",
     "text": [
      "length of the final playStore app:  8862\n",
      "length of the final appleStore app:  3222\n"
     ]
    }
   ],
   "source": [
    "playStore_final = []\n",
    "appleStore_final = []\n",
    "\n",
    "for app in playStore_english:\n",
    "    price = app[7]\n",
    "    if price == '0':\n",
    "        playStore_final.append(app)\n",
    "\n",
    "for app in appleStore_english:\n",
    "    price = app[4]\n",
    "    if price == '0.0':\n",
    "        appleStore_final.append(app)\n",
    "        \n",
    "print(\"length of the final playStore app: \",len(playStore_final))\n",
    "print(\"length of the final appleStore app: \",len(appleStore_final))"
   ]
  },
  {
   "cell_type": "markdown",
   "metadata": {},
   "source": [
    "### Most Common Apps by genre\n",
    "\n",
    "We are interested in the apps that are most common in both playStore and appleStore. So let us create a frequency table function and then display function.\n",
    "* The frequency table shall find the percentages of the most common apps.\n",
    "* Another function to display the percentages in deschending order.\n"
   ]
  },
  {
   "cell_type": "code",
   "execution_count": 21,
   "metadata": {},
   "outputs": [],
   "source": [
    "def freq_table(dataset, index):\n",
    "    table = {}\n",
    "    total = 0\n",
    "    \n",
    "    for row in dataset:\n",
    "        total += 1\n",
    "        value = row[index]\n",
    "        if value in table:\n",
    "            table[value] += 1\n",
    "        else:\n",
    "            table[value] = 1\n",
    "    \n",
    "    table_percentages = {}\n",
    "    for key in table:\n",
    "        percentage = (table[key]/total)*100\n",
    "        table_percentages[key] = percentage\n",
    "\n",
    "    return table_percentages\n",
    "\n",
    "def display_table(dataset, index):\n",
    "    table = freq_table(dataset, index)\n",
    "    table_display = []\n",
    "    for key in table:\n",
    "        key_val_as_tuple = (table[key], key)\n",
    "        table_display.append(key_val_as_tuple)\n",
    "        \n",
    "    table_sorted = sorted(table_display, reverse = True)\n",
    "    for entry in table_sorted:\n",
    "        print(entry[1], ':', entry[0])"
   ]
  },
  {
   "cell_type": "markdown",
   "metadata": {},
   "source": [
    "#### Part Three\n",
    "Now let us examine prime_genre column(index = -5 i,e. 5th column from last) in appStore dataset."
   ]
  },
  {
   "cell_type": "code",
   "execution_count": 22,
   "metadata": {},
   "outputs": [
    {
     "name": "stdout",
     "output_type": "stream",
     "text": [
      "Games : 58.16263190564867\n",
      "Entertainment : 7.883302296710118\n",
      "Photo & Video : 4.9658597144630665\n",
      "Education : 3.662321539416512\n",
      "Social Networking : 3.2898820608317814\n",
      "Shopping : 2.60707635009311\n",
      "Utilities : 2.5139664804469275\n",
      "Sports : 2.1415270018621975\n",
      "Music : 2.0484171322160147\n",
      "Health & Fitness : 2.0173805090006205\n",
      "Productivity : 1.7380509000620732\n",
      "Lifestyle : 1.5828677839851024\n",
      "News : 1.3345747982619491\n",
      "Travel : 1.2414649286157666\n",
      "Finance : 1.1173184357541899\n",
      "Weather : 0.8690254500310366\n",
      "Food & Drink : 0.8069522036002483\n",
      "Reference : 0.5586592178770949\n",
      "Business : 0.5276225946617008\n",
      "Book : 0.4345127250155183\n",
      "Navigation : 0.186219739292365\n",
      "Medical : 0.186219739292365\n",
      "Catalogs : 0.12414649286157665\n"
     ]
    }
   ],
   "source": [
    "display_table(appleStore_final , -5)"
   ]
  },
  {
   "cell_type": "markdown",
   "metadata": {},
   "source": [
    "### Conclusions\n",
    "* We can see that in English free apps in ios store, more than 58% apps are games and so on.\n",
    "* All other apps that come under productivity constitute less than 10%\n",
    "\n",
    "This inferences might be wrong. It doesn't mean that if the #apps are more in the app store, it means the user base is high in those apps. Games/Entertainment apps in number might be more but the user base might be more for other apps. So we can not simply make conclusions based on the number of apps."
   ]
  },
  {
   "cell_type": "markdown",
   "metadata": {},
   "source": [
    "Let's continue by examining the Genres and Category columns of the Google Play data set (two columns which seem to be related)."
   ]
  },
  {
   "cell_type": "code",
   "execution_count": 23,
   "metadata": {},
   "outputs": [
    {
     "name": "stdout",
     "output_type": "stream",
     "text": [
      "FAMILY : 18.934777702550214\n",
      "GAME : 9.693071541412774\n",
      "TOOLS : 8.451816745655607\n",
      "BUSINESS : 4.5926427443015125\n",
      "LIFESTYLE : 3.9043105393816293\n",
      "PRODUCTIVITY : 3.8930264048747465\n",
      "FINANCE : 3.7011961182577298\n",
      "MEDICAL : 3.5206499661475967\n",
      "SPORTS : 3.39652448657188\n",
      "PERSONALIZATION : 3.3175355450236967\n",
      "COMMUNICATION : 3.238546603475513\n",
      "HEALTH_AND_FITNESS : 3.080568720379147\n",
      "PHOTOGRAPHY : 2.945159106296547\n",
      "NEWS_AND_MAGAZINES : 2.798465357707064\n",
      "SOCIAL : 2.663055743624464\n",
      "TRAVEL_AND_LOCAL : 2.335815842924848\n",
      "SHOPPING : 2.2455427668697814\n",
      "BOOKS_AND_REFERENCE : 2.143985556307831\n",
      "DATING : 1.8618821936357481\n",
      "VIDEO_PLAYERS : 1.7941773865944481\n",
      "MAPS_AND_NAVIGATION : 1.399232678853532\n",
      "FOOD_AND_DRINK : 1.2412547957571656\n",
      "EDUCATION : 1.1735499887158656\n",
      "ENTERTAINMENT : 0.9591514330850823\n",
      "LIBRARIES_AND_DEMO : 0.9365831640713158\n",
      "AUTO_AND_VEHICLES : 0.9252990295644324\n",
      "HOUSE_AND_HOME : 0.8237418190024826\n",
      "WEATHER : 0.8011735499887158\n",
      "EVENTS : 0.7109004739336493\n",
      "PARENTING : 0.6544798013992327\n",
      "ART_AND_DESIGN : 0.6431956668923494\n",
      "COMICS : 0.6206273978785828\n",
      "BEAUTY : 0.598059128864816\n"
     ]
    }
   ],
   "source": [
    "display_table(playStore_final, 1) # Category"
   ]
  },
  {
   "cell_type": "markdown",
   "metadata": {},
   "source": [
    "### Conclusions\n",
    "* When observed, in playstore applications, it is clear that there are considerable amount of apps developed not only for games but also for other genres/category like productivity, tools, business, lifestyle etc."
   ]
  },
  {
   "cell_type": "code",
   "execution_count": 24,
   "metadata": {},
   "outputs": [
    {
     "name": "stdout",
     "output_type": "stream",
     "text": [
      "Tools : 8.440532611148726\n",
      "Entertainment : 6.070864364703228\n",
      "Education : 5.348679756262695\n",
      "Business : 4.5926427443015125\n",
      "Productivity : 3.8930264048747465\n",
      "Lifestyle : 3.8930264048747465\n",
      "Finance : 3.7011961182577298\n",
      "Medical : 3.5206499661475967\n",
      "Sports : 3.4642292936131795\n",
      "Personalization : 3.3175355450236967\n",
      "Communication : 3.238546603475513\n",
      "Action : 3.1031369893929135\n",
      "Health & Fitness : 3.080568720379147\n",
      "Photography : 2.945159106296547\n",
      "News & Magazines : 2.798465357707064\n",
      "Social : 2.663055743624464\n",
      "Travel & Local : 2.324531708417964\n",
      "Shopping : 2.2455427668697814\n",
      "Books & Reference : 2.143985556307831\n",
      "Simulation : 2.0424283457458814\n",
      "Dating : 1.8618821936357481\n",
      "Arcade : 1.8505980591288649\n",
      "Video Players & Editors : 1.7716091175806816\n",
      "Casual : 1.7490408485669149\n",
      "Maps & Navigation : 1.399232678853532\n",
      "Food & Drink : 1.2412547957571656\n",
      "Puzzle : 1.128413450688332\n",
      "Racing : 0.9930038366057323\n",
      "Role Playing : 0.9365831640713158\n",
      "Libraries & Demo : 0.9365831640713158\n",
      "Auto & Vehicles : 0.9252990295644324\n",
      "Strategy : 0.9140148950575491\n",
      "House & Home : 0.8237418190024826\n",
      "Weather : 0.8011735499887158\n",
      "Events : 0.7109004739336493\n",
      "Adventure : 0.6770480704129994\n",
      "Comics : 0.6093432633716994\n",
      "Beauty : 0.598059128864816\n",
      "Art & Design : 0.598059128864816\n",
      "Parenting : 0.49650191830286616\n",
      "Card : 0.4400812457684496\n",
      "Casino : 0.4287971112615662\n",
      "Trivia : 0.41751297675468296\n",
      "Educational;Education : 0.3949447077409162\n",
      "Educational : 0.3723764387271496\n",
      "Board : 0.3723764387271496\n",
      "Education;Education : 0.3385240352064997\n",
      "Word : 0.2595350936583164\n",
      "Casual;Pretend Play : 0.23696682464454977\n",
      "Music : 0.2031144211238998\n",
      "Puzzle;Brain Games : 0.18054615211013314\n",
      "Racing;Action & Adventure : 0.16926201760324985\n",
      "Entertainment;Music & Video : 0.16926201760324985\n",
      "Casual;Brain Games : 0.13540961408259986\n",
      "Casual;Action & Adventure : 0.13540961408259986\n",
      "Arcade;Action & Adventure : 0.12412547957571654\n",
      "Action;Action & Adventure : 0.1015572105619499\n",
      "Educational;Pretend Play : 0.09027307605506657\n",
      "Board;Brain Games : 0.09027307605506657\n",
      "Simulation;Action & Adventure : 0.07898894154818326\n",
      "Parenting;Education : 0.07898894154818326\n",
      "Entertainment;Brain Games : 0.07898894154818326\n",
      "Parenting;Music & Video : 0.06770480704129993\n",
      "Educational;Brain Games : 0.06770480704129993\n",
      "Casual;Creativity : 0.06770480704129993\n",
      "Art & Design;Creativity : 0.06770480704129993\n",
      "Education;Pretend Play : 0.056420672534416606\n",
      "Role Playing;Pretend Play : 0.045136538027533285\n",
      "Education;Creativity : 0.045136538027533285\n",
      "Role Playing;Action & Adventure : 0.033852403520649964\n",
      "Puzzle;Action & Adventure : 0.033852403520649964\n",
      "Entertainment;Creativity : 0.033852403520649964\n",
      "Entertainment;Action & Adventure : 0.033852403520649964\n",
      "Educational;Creativity : 0.033852403520649964\n",
      "Educational;Action & Adventure : 0.033852403520649964\n",
      "Education;Music & Video : 0.033852403520649964\n",
      "Education;Brain Games : 0.033852403520649964\n",
      "Education;Action & Adventure : 0.033852403520649964\n",
      "Adventure;Action & Adventure : 0.033852403520649964\n",
      "Video Players & Editors;Music & Video : 0.022568269013766643\n",
      "Sports;Action & Adventure : 0.022568269013766643\n",
      "Simulation;Pretend Play : 0.022568269013766643\n",
      "Puzzle;Creativity : 0.022568269013766643\n",
      "Music;Music & Video : 0.022568269013766643\n",
      "Entertainment;Pretend Play : 0.022568269013766643\n",
      "Casual;Education : 0.022568269013766643\n",
      "Board;Action & Adventure : 0.022568269013766643\n",
      "Video Players & Editors;Creativity : 0.011284134506883321\n",
      "Trivia;Education : 0.011284134506883321\n",
      "Travel & Local;Action & Adventure : 0.011284134506883321\n",
      "Tools;Education : 0.011284134506883321\n",
      "Strategy;Education : 0.011284134506883321\n",
      "Strategy;Creativity : 0.011284134506883321\n",
      "Strategy;Action & Adventure : 0.011284134506883321\n",
      "Simulation;Education : 0.011284134506883321\n",
      "Role Playing;Brain Games : 0.011284134506883321\n",
      "Racing;Pretend Play : 0.011284134506883321\n",
      "Puzzle;Education : 0.011284134506883321\n",
      "Parenting;Brain Games : 0.011284134506883321\n",
      "Music & Audio;Music & Video : 0.011284134506883321\n",
      "Lifestyle;Pretend Play : 0.011284134506883321\n",
      "Lifestyle;Education : 0.011284134506883321\n",
      "Health & Fitness;Education : 0.011284134506883321\n",
      "Health & Fitness;Action & Adventure : 0.011284134506883321\n",
      "Entertainment;Education : 0.011284134506883321\n",
      "Communication;Creativity : 0.011284134506883321\n",
      "Comics;Creativity : 0.011284134506883321\n",
      "Casual;Music & Video : 0.011284134506883321\n",
      "Card;Brain Games : 0.011284134506883321\n",
      "Card;Action & Adventure : 0.011284134506883321\n",
      "Books & Reference;Education : 0.011284134506883321\n",
      "Art & Design;Pretend Play : 0.011284134506883321\n",
      "Art & Design;Action & Adventure : 0.011284134506883321\n",
      "Arcade;Pretend Play : 0.011284134506883321\n",
      "Adventure;Education : 0.011284134506883321\n"
     ]
    }
   ],
   "source": [
    "display_table(playStore_final, -4)"
   ]
  },
  {
   "cell_type": "markdown",
   "metadata": {},
   "source": [
    "The difference between the Genres and the Category columns is not crystal clear, but one thing we can notice is that the Genres column is much more granular (it has more categories). We're only looking for the bigger picture at the moment, so we'll only work with the Category column moving forward.\n",
    "\n",
    "Up to this point, we found that the App Store is dominated by apps designed for fun, while Google Play shows a more balanced landscape of both practical and for-fun apps. Now we'd like to get an idea about the kind of apps that have most users."
   ]
  },
  {
   "cell_type": "markdown",
   "metadata": {},
   "source": [
    "### Most popular apps by genre in App applications\n",
    "One way to find this is to sort the apps according to number of **Installs**. This can be done in play store but this information is missing in the app store. Hence the other way around to find this information is to gather the number of user rating for the app. This can be done using **rating_count_tot** column.\n",
    "\n",
    "Below, we calculate avg number of user ratings per app genre on the app store."
   ]
  },
  {
   "cell_type": "code",
   "execution_count": 25,
   "metadata": {},
   "outputs": [
    {
     "name": "stdout",
     "output_type": "stream",
     "text": [
      "Social Networking : 71548.34905660378\n",
      "Photo & Video : 28441.54375\n",
      "Games : 22788.6696905016\n",
      "Music : 57326.530303030304\n",
      "Reference : 74942.11111111111\n",
      "Health & Fitness : 23298.015384615384\n",
      "Weather : 52279.892857142855\n",
      "Utilities : 18684.456790123455\n",
      "Travel : 28243.8\n",
      "Shopping : 26919.690476190477\n",
      "News : 21248.023255813954\n",
      "Navigation : 86090.33333333333\n",
      "Lifestyle : 16485.764705882353\n",
      "Entertainment : 14029.830708661417\n",
      "Food & Drink : 33333.92307692308\n",
      "Sports : 23008.898550724636\n",
      "Book : 39758.5\n",
      "Finance : 31467.944444444445\n",
      "Education : 7003.983050847458\n",
      "Productivity : 21028.410714285714\n",
      "Business : 7491.117647058823\n",
      "Catalogs : 4004.0\n",
      "Medical : 612.0\n"
     ]
    }
   ],
   "source": [
    "genres_ios = freq_table(appleStore_final, -5)\n",
    "\n",
    "for genre in genres_ios:\n",
    "    total = 0\n",
    "    len_genre = 0\n",
    "    for app in appleStore_final:\n",
    "        genre_app = app[-5]\n",
    "        if genre_app == genre:            \n",
    "            n_ratings = float(app[5])\n",
    "            total += n_ratings\n",
    "            len_genre += 1\n",
    "    avg_n_ratings = total / len_genre\n",
    "    print(genre, ':', avg_n_ratings)"
   ]
  },
  {
   "cell_type": "markdown",
   "metadata": {},
   "source": [
    "If observed, navigation apps have much number of reviews. But this is mostly influenced by google maps and Waze users. As there are billions of user base for these applications."
   ]
  },
  {
   "cell_type": "code",
   "execution_count": 26,
   "metadata": {},
   "outputs": [
    {
     "name": "stdout",
     "output_type": "stream",
     "text": [
      "Waze - GPS Navigation, Maps & Real-time Traffic : 345046\n",
      "Google Maps - Navigation & Transit : 154911\n",
      "Geocaching® : 12811\n",
      "CoPilot GPS – Car Navigation & Offline Maps : 3582\n",
      "ImmobilienScout24: Real Estate Search in Germany : 187\n",
      "Railway Route Search : 5\n"
     ]
    }
   ],
   "source": [
    "for app in appleStore_final:\n",
    "    if app[-5] == 'Navigation':\n",
    "        print(app[1], ':', app[5]) # print name and number of ratings"
   ]
  },
  {
   "cell_type": "markdown",
   "metadata": {},
   "source": [
    "The same pattern applies to social networking apps, where the average number is heavily influenced by a few giants like Facebook, Pinterest, Skype, etc. Same applies to music apps, where a few big players like Pandora, Spotify, and Shazam heavily influence the average number.\n",
    "\n",
    "The aim is to find out popular genres, but navigation, social networking and music apps seem to be leading in this list. Following are the reasons for this:\n",
    "* There might be very few apps which have hundreds and thousands of user ratings, while other apps might have struggled so hard to past the threshold of 10,000. \n",
    "    * **_Solution_:** The above problem can be eradicated if highly popular apps are removed from the app store. But we shall leave this part for the later sections.\n",
    "    \n",
    "Reference apps have 74,942 user ratings on average, but it's actually the Bible and Dictionary.com which skew up the average rating:"
   ]
  },
  {
   "cell_type": "code",
   "execution_count": 27,
   "metadata": {},
   "outputs": [
    {
     "name": "stdout",
     "output_type": "stream",
     "text": [
      "Bible  :  985920\n",
      "Dictionary.com Dictionary & Thesaurus  :  200047\n",
      "Dictionary.com Dictionary & Thesaurus for iPad  :  54175\n",
      "Google Translate  :  26786\n",
      "Muslim Pro: Ramadan 2017 Prayer Times, Azan, Quran  :  18418\n",
      "New Furniture Mods - Pocket Wiki & Game Tools for Minecraft PC Edition  :  17588\n",
      "Merriam-Webster Dictionary  :  16849\n",
      "Night Sky  :  12122\n",
      "City Maps for Minecraft PE - The Best Maps for Minecraft Pocket Edition (MCPE)  :  8535\n",
      "LUCKY BLOCK MOD ™ for Minecraft PC Edition - The Best Pocket Wiki & Mods Installer Tools  :  4693\n",
      "GUNS MODS for Minecraft PC Edition - Mods Tools  :  1497\n",
      "Guides for Pokémon GO - Pokemon GO News and Cheats  :  826\n",
      "WWDC  :  762\n",
      "Horror Maps for Minecraft PE - Download The Scariest Maps for Minecraft Pocket Edition (MCPE) Free  :  718\n",
      "VPN Express  :  14\n",
      "Real Bike Traffic Rider Virtual Reality Glasses  :  8\n",
      "教えて!goo  :  0\n",
      "Jishokun-Japanese English Dictionary & Translator  :  0\n"
     ]
    }
   ],
   "source": [
    "for app in appleStore_final:\n",
    "    if app[-5] == \"Reference\":\n",
    "        print(app[1],\" : \",app[5])"
   ]
  },
  {
   "cell_type": "markdown",
   "metadata": {},
   "source": [
    "However, this niche seems to show some potential. One thing we could do is take another popular book and turn it into an app where we could add different features besides the raw version of the book. This might include daily quotes from the book, an audio version of the book, quizzes about the book, etc. On top of that, we could also embed a dictionary within the app, so users don't need to exit our app to look up words in an external app.\n",
    "\n",
    "This idea seems to fit well with the fact that the App Store is dominated by for-fun apps. This suggests the market might be a bit saturated with for-fun apps, which means a practical app might have more of a chance to stand out among the huge number of apps on the App Store.\n",
    "\n",
    "Other genres that seem popular include weather, book, food and drink, or finance. The book genre seem to overlap a bit with the app idea we described above, but the other genres don't seem too interesting to us:\n",
    "\n",
    "* Weather apps — people generally don't spend too much time in-app, and the chances of making profit from in-app adds are low. Also, getting reliable live weather data may require us to connect our apps to non-free APIs.\n",
    "* Food and drink — examples here include Starbucks, Dunkin' Donuts, McDonald's, etc. So making a popular food and drink app requires actual cooking and a delivery service, which is outside the scope of our company.\n",
    "* Finance apps — these apps involve banking, paying bills, money transfer, etc. Building a finance app requires domain knowledge, and we don't want to hire a finance expert just to build an app.\n",
    "\n",
    "Now let's analyze the Google Play market a bit.\n",
    "\n",
    "### Most Popular Apps by Genre on Google Play\n",
    "For the Google Play market, we actually have data about the number of installs, so we should be able to get a clearer picture about genre popularity. However, the install numbers don't seem precise enough — we can see that most values are open-ended (100+, 1,000+, 5,000+, etc.):"
   ]
  },
  {
   "cell_type": "code",
   "execution_count": null,
   "metadata": {},
   "outputs": [],
   "source": []
  }
 ],
 "metadata": {
  "kernelspec": {
   "display_name": "Python 3",
   "language": "python",
   "name": "python3"
  },
  "language_info": {
   "codemirror_mode": {
    "name": "ipython",
    "version": 3
   },
   "file_extension": ".py",
   "mimetype": "text/x-python",
   "name": "python",
   "nbconvert_exporter": "python",
   "pygments_lexer": "ipython3",
   "version": "3.7.7"
  }
 },
 "nbformat": 4,
 "nbformat_minor": 2
}
